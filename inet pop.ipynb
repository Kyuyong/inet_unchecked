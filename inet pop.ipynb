{
 "cells": [
  {
   "cell_type": "markdown",
   "id": "1d35d621",
   "metadata": {},
   "source": [
    "from selenium import webdriver\n",
    "from selenium.webdriver.common.by import By\n",
    "from bs4 import BeautifulSoup\n",
    "import time\n",
    "from selenium.common.exceptions import NoSuchElementException"
   ]
  },
  {
   "cell_type": "code",
   "execution_count": null,
   "id": "6da56307",
   "metadata": {},
   "outputs": [],
   "source": [
    "from selenium import webdriver \n",
    "from selenium.webdriver.common.by import By \n",
    "from bs4 import BeautifulSoup \n",
    "import time \n",
    "from selenium.common.exceptions import NoSuchElementException"
   ]
  },
  {
   "cell_type": "code",
   "execution_count": null,
   "id": "c5c2d507",
   "metadata": {},
   "outputs": [],
   "source": [
    "print('아이디 입력: ')\n",
    "my_id = input()\n",
    "print('비밀번호 입력')\n",
    "my_pw = input()\n",
    "\n",
    "print('아이디 확인: ',my_id)\n",
    "print('비밀번호 확인: ',my_pw)"
   ]
  },
  {
   "cell_type": "markdown",
   "id": "b9c18276",
   "metadata": {},
   "source": [
    "# i-net 로그인 과정"
   ]
  },
  {
   "cell_type": "code",
   "execution_count": null,
   "id": "593fed1b",
   "metadata": {},
   "outputs": [],
   "source": [
    "#웹드라이버 불러오기 \n",
    "driver = webdriver.Chrome('./chromedriver/chromedriver') \n",
    "url = 'https://i-net.skons.co.kr' \n",
    "driver.get(url)\n",
    "\n",
    "#로그인 과정\n",
    "user_id = driver.find_element(By.ID, \"user_id\")\n",
    "user_pw = driver.find_element(By.ID, \"user_pass\")\n",
    "user_id.clear()\n",
    "user_id.send_keys(my_id)\n",
    "user_pw.send_keys(my_pw)\n",
    "driver.find_element(By.XPATH, '//*[@id=\"loginCard\"]/button').click()\n",
    "\n",
    "driver.implicitly_wait(10)\n",
    "time.sleep(1)\n",
    "\n",
    "#팝업창 닫기\n",
    "try:\n",
    "    elem = driver.find_element(By.XPATH, '//*[@id=\"alarmReadBtn\"]')\n",
    "    elem.click()\n",
    "except NoSuchElementException:\n",
    "    pass\n",
    "driver.implicitly_wait(10)\n",
    "time.sleep(1)\n",
    "\n",
    "#my page : 미확인글 게시글로 이동\n",
    "driver.find_element(By.XPATH,'//*[@id=\"siteMapButton\"]/div').click()\n",
    "driver.find_element(By.XPATH, '//*[@id=\"overlay02\"]/div/div/div[2]/div[5]/ul/li/a').click()\n",
    "driver.implicitly_wait(10)\n",
    "time.sleep(1)\n",
    "\n",
    "#미확인글 버튼 클릭\n",
    "driver.find_element(By.XPATH, '//*[@id=\"portalLnb_NoRead\"]/a').click()\n",
    "driver.implicitly_wait(10)\n",
    "time.sleep(3)\n",
    "html = driver.page_source\n",
    "soup = BeautifulSoup(html, 'html.parser')\n",
    "blog = soup.find_all('div', 'my_bloggingArea')\n",
    "blog_len = len(blog)\n",
    "\n",
    "print('현재 블로그 값: ',blog_len)"
   ]
  },
  {
   "cell_type": "markdown",
   "id": "02b23ef7",
   "metadata": {},
   "source": [
    "# 미확인글 클릭하기 실행"
   ]
  },
  {
   "cell_type": "code",
   "execution_count": null,
   "id": "0385c265",
   "metadata": {},
   "outputs": [],
   "source": [
    "while blog_len != 0:\n",
    "    blogId = [blog[i]['id'] for i in range(blog_len)]\n",
    "    for j in range(len(blogId)):\n",
    "        driver.find_element(By.ID, blogId[j]).click()\n",
    "    \n",
    "    driver.refresh()\n",
    "    driver.implicitly_wait(10)\n",
    "    time.sleep(3)\n",
    "    \n",
    "    #미확인글 버튼 클릭\n",
    "    driver.find_element(By.XPATH, '//*[@id=\"portalLnb_NoRead\"]/a').click()\n",
    "    driver.implicitly_wait(20)\n",
    "    time.sleep(3)\n",
    "    html = driver.page_source\n",
    "    soup = BeautifulSoup(html, 'html.parser')\n",
    "    blog = soup.find_all('div', 'my_bloggingArea')\n",
    "    blog_len = len(blog)\n",
    "    \n",
    "    if blog_len == 0:\n",
    "        print(\"=\"* 15 )\n",
    "        print(\"미확인글이 없습니다.\")\n",
    "        print(\"=\"* 15 )"
   ]
  },
  {
   "cell_type": "code",
   "execution_count": null,
   "id": "3d6b2cf7",
   "metadata": {},
   "outputs": [],
   "source": []
  },
  {
   "cell_type": "code",
   "execution_count": null,
   "id": "e6c65b28",
   "metadata": {},
   "outputs": [],
   "source": [
    "driver.close()"
   ]
  },
  {
   "cell_type": "code",
   "execution_count": null,
   "id": "8676d8e9",
   "metadata": {},
   "outputs": [],
   "source": []
  }
 ],
 "metadata": {
  "kernelspec": {
   "display_name": "Python 3 (ipykernel)",
   "language": "python",
   "name": "python3"
  },
  "language_info": {
   "codemirror_mode": {
    "name": "ipython",
    "version": 3
   },
   "file_extension": ".py",
   "mimetype": "text/x-python",
   "name": "python",
   "nbconvert_exporter": "python",
   "pygments_lexer": "ipython3",
   "version": "3.10.9"
  }
 },
 "nbformat": 4,
 "nbformat_minor": 5
}
